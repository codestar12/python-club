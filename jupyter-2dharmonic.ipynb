{
 "cells": [
  {
   "cell_type": "code",
   "execution_count": 1,
   "metadata": {
    "collapsed": false
   },
   "outputs": [
    {
     "data": {
      "application/javascript": [
       "require.undef(\"nbextensions/jquery-ui.custom.min\");"
      ],
      "text/plain": [
       "<IPython.core.display.Javascript object>"
      ]
     },
     "metadata": {},
     "output_type": "display_data"
    },
    {
     "data": {
      "application/javascript": [
       "require.undef(\"nbextensions/glow.2.1.min\");"
      ],
      "text/plain": [
       "<IPython.core.display.Javascript object>"
      ]
     },
     "metadata": {},
     "output_type": "display_data"
    },
    {
     "data": {
      "application/javascript": [
       "require.undef(\"nbextensions/glowcomm\");"
      ],
      "text/plain": [
       "<IPython.core.display.Javascript object>"
      ]
     },
     "metadata": {},
     "output_type": "display_data"
    },
    {
     "data": {
      "application/javascript": [
       "require([\"nbextensions/glowcomm\"], function(){console.log(\"glowcomm loaded\");})"
      ],
      "text/plain": [
       "<IPython.core.display.Javascript object>"
      ]
     },
     "metadata": {},
     "output_type": "display_data"
    },
    {
     "data": {
      "text/html": [
       "<div id=\"glowscript\" class=\"glowscript\"></div>"
      ],
      "text/plain": [
       "<IPython.core.display.HTML object>"
      ]
     },
     "metadata": {},
     "output_type": "display_data"
    },
    {
     "data": {
      "application/javascript": [
       "window.__context = { glowscript_container: $(\"#glowscript\").removeAttr(\"id\")}"
      ],
      "text/plain": [
       "<IPython.core.display.Javascript object>"
      ]
     },
     "metadata": {},
     "output_type": "display_data"
    }
   ],
   "source": [
    "from vpython import *"
   ]
  },
  {
   "cell_type": "code",
   "execution_count": 2,
   "metadata": {
    "collapsed": true
   },
   "outputs": [],
   "source": [
    "from __future__ import division, print_function\n",
    "from math import *"
   ]
  },
  {
   "cell_type": "code",
   "execution_count": 3,
   "metadata": {
    "collapsed": false
   },
   "outputs": [
    {
     "name": "stdout",
     "output_type": "stream",
     "text": [
      "For Cool Trails try these suggested values\n",
      "Circle: 1,1,3,(pi/2),(pi/2)\n",
      "Ellipse: 1,1,3,(2*pi/3),(-2*pi/3)\n",
      "Hourglass: 4,1,3,0,0\n",
      "Pretzel Supreme: 1,1.5**2,3,0,0\n",
      "Shoelaces: 1.5**2,1,3,0,pi/2\n",
      "    \n",
      "    \n",
      "Pick your favorite horizontal spring constant.Cool Kids choose between 1 and 10 =3\n",
      "Pick your favorite vertical spring constant.Cool Kids choose between 1 and 10 =3\n",
      "Pick your Mass. Cool Kids choose between 1 and 5 =2\n",
      "Decide on a phi (in terms of pi) =1\n",
      "Decide on a delta (in terms of pi) =1\n"
     ]
    }
   ],
   "source": [
    "# Constants\n",
    "print(\"For Cool Trails try these suggested values\")\n",
    "print(\"Circle: 1,1,3,(pi/2),(pi/2)\")\n",
    "print(\"Ellipse: 1,1,3,(2*pi/3),(-2*pi/3)\")\n",
    "print(\"Hourglass: 4,1,3,0,0\")\n",
    "print(\"Pretzel Supreme: 1,1.5**2,3,0,0\")\n",
    "print(\"Shoelaces: 1.5**2,1,3,0,pi/2\")\n",
    "print(\"    \")\n",
    "print(\"    \")\n",
    "\n",
    "k1 = 10 * float(input('Pick your favorite horizontal spring constant.Cool Kids choose between 1 and 10 ='))    # spring constant\n",
    "\n",
    "k2 = 10 * float(input('Pick your favorite vertical spring constant.Cool Kids choose between 1 and 10 ='))\n",
    "\n",
    "m = .1 * float(input('Pick your Mass. Cool Kids choose between 1 and 5 ='))\n",
    "v = vector(0, 0, 0)\n",
    "t = 0\n",
    "phi = float(input('Decide on a phi (in terms of pi) ='))\n",
    "delta = float(input('Decide on a delta (in terms of pi) ='))\n",
    "dt = .01\n",
    "\n"
   ]
  },
  {
   "cell_type": "code",
   "execution_count": null,
   "metadata": {
    "collapsed": false
   },
   "outputs": [],
   "source": [
    "# Objects\n",
    "floor = box(pos=vector(0, -2, 0), length=5, width=1,\n",
    "            height=.1, color=vector(.5, 0, 1.6))\n",
    "\n",
    "wall = box(pos=vector(-2, 0, 0), length=.1,\n",
    "           width=1, height=5, color=vector(.5, 0, 1.6))\n",
    "\n",
    "mass = box(pos=vector(0, 0, 0), length=.5,\n",
    "           width=.5, height=.5, color=color.cyan, make_trail=True)\n",
    "\n",
    "#mass.trail_object.color = color.orange\n",
    "spring_h = helix(pos=wall.pos + vector(wall.length/2, 0, 0),\n",
    "                 axis=mass.pos - wall.pos, color=color.yellow,\n",
    "                 radius=.1, coils=10, thickness=.1)\n",
    "\n",
    "spring_v = helix(pos=floor.pos + vector(floor.height/2, 0, 0),\n",
    "                 axis=mass.pos - floor.pos, color=color.green,\n",
    "                 radius=.1, coils=10, thickness=.1)\n",
    "\n",
    "\n",
    "# Calculations\n",
    "w_1 = sqrt(k1/m)\n",
    "w_2 = sqrt(k2/m)\n",
    "s1 = cos(w_1*t+phi)\n",
    "s2 = cos(w_2 * t + phi + delta)\n",
    "L_h_hat = vector(1, 0, 0)\n",
    "L_v_hat = vector(0, 1, 0)\n",
    "FS_h = -k1 * s1 * L_h_hat\n",
    "FS_v = -k2 * s2 * L_v_hat\n",
    "\n",
    "# Graphs\n",
    "\n",
    "# Velocity/Position vs time graph\n",
    "graph(xtitle='Time', ytitle='Horizontal Velocity (Blue) and Position (Red)', #changed gdisplay to graph\n",
    "         x=700, y=10, width=600, height=200, xmin=0,\n",
    "         xmax=10, ymin=-5, ymax=5)\n",
    "\n",
    "graph_v = gcurve(color=color.blue)\n",
    "graph_p = gcurve(color=color.red)\n",
    "\n",
    "# Velocity/Position vs time graph\n",
    "graph(xtitle='Time', ytitle='Vertical Velocity (Magenta) and Position (Yellow)',\n",
    "         x=700, y=200, width=600, height=200, xmin=0,\n",
    "         xmax=10, ymin=-5, ymax=5)\n",
    "graph_v_v=gcurve(color=color.magenta)\n",
    "graph_p_v=gcurve(color=color.yellow)\n",
    "\n",
    "while True:\n",
    "    rate(50)\n",
    "    s1 = 5*cos(w_1*t + phi)          # updating displacement\n",
    "    s2 = 5*cos(w_2*t + phi + delta)\n",
    "    FS_h = -k1*s1*L_h_hat        # updating spring force\n",
    "    FS_v = -k2*s2*L_v_hat\n",
    "    a_h = FS_h/m                 # updating acceleration\n",
    "    a_v = FS_v/m\n",
    "    v_h = v + a_h*dt              # updating velocity\n",
    "    v_v = v + a_v*dt\n",
    "    mass.pos = mass.pos + v_h*dt + v_v*dt  # updating position of mass\n",
    "    t = t + dt\n",
    "\n",
    "    graph_v.plot(pos=(t, v_h.x))\n",
    "    graph_p.plot(pos=(t, mass.pos.x))\n",
    "\n",
    "    graph_v_v.plot(pos=(t, v_v.y))\n",
    "    graph_p_v.plot(pos=(t, mass.pos.y))\n",
    "\n",
    "    # updating the axis of the horizontal spring\n",
    "    spring_h.axis = mass.pos-spring_h.pos\n",
    "    # updating the position of the spring in the y direction\n",
    "    spring_h.pos.y = mass.pos.y\n",
    "    # updating the axis of the vertical spring\n",
    "    spring_v.axis = mass.pos-spring_v.pos\n",
    "    # updating the position of the spring in the x direction\n",
    "    spring_v.pos.x = mass.pos.x"
   ]
  },
  {
   "cell_type": "code",
   "execution_count": null,
   "metadata": {
    "collapsed": true
   },
   "outputs": [],
   "source": []
  },
  {
   "cell_type": "code",
   "execution_count": null,
   "metadata": {
    "collapsed": true
   },
   "outputs": [],
   "source": []
  }
 ],
 "metadata": {
  "kernelspec": {
   "display_name": "Python 3",
   "language": "python",
   "name": "python3"
  },
  "language_info": {
   "codemirror_mode": {
    "name": "ipython",
    "version": 3
   },
   "file_extension": ".py",
   "mimetype": "text/x-python",
   "name": "python",
   "nbconvert_exporter": "python",
   "pygments_lexer": "ipython3",
   "version": "3.5.1"
  }
 },
 "nbformat": 4,
 "nbformat_minor": 0
}
